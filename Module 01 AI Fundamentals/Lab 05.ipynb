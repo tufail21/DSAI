{
 "cells": [
  {
   "cell_type": "markdown",
   "id": "c061f501",
   "metadata": {},
   "source": [
    "Write a program that inputs a line of text. Output the text in uppercase letters and in\n",
    "lowercase letters using built-in functions"
   ]
  },
  {
   "cell_type": "code",
   "execution_count": null,
   "id": "4db1ce30",
   "metadata": {},
   "outputs": [],
   "source": [
    "text = input(\"Enter a line of text: \")\n",
    "\n",
    "\n",
    "upper_text = text.upper()\n",
    "print(\"Uppercase: \", upper_text)\n",
    "\n",
    "lower_text = text.lower()\n",
    "print(\"Lowercase: \", lower_text)"
   ]
  },
  {
   "cell_type": "markdown",
   "id": "08c1a42b",
   "metadata": {},
   "source": [
    "a  simple way to estimate the number of words in a string is to count the number of\n",
    "spaces in the string. Write a program that asks the user for a string and returns an\n",
    "estimate of how many words are in the string."
   ]
  },
  {
   "cell_type": "code",
   "execution_count": null,
   "id": "d04ed8c0",
   "metadata": {},
   "outputs": [],
   "source": [
    "text = input(\"Enter a string: \")\n",
    "\n",
    "space = text.count(' ')\n",
    "\n",
    "word = space + 1\n",
    "\n",
    "print(\"Estimated number of words:\", word)"
   ]
  },
  {
   "cell_type": "markdown",
   "id": "22f1ba63",
   "metadata": {},
   "source": [
    "Write a program that asks the user to enter a string s and then converts s to lowercase,\n",
    "removes all the periods and commas from s, and prints the resulting string.(Hint: use the\n",
    "split method)"
   ]
  },
  {
   "cell_type": "code",
   "execution_count": null,
   "id": "c0b03494",
   "metadata": {},
   "outputs": [],
   "source": [
    "texta = input(\"Enter a  string: \")\n",
    "textb = input(\"Enter a  string: \")\n",
    "\n",
    "lower_texta = texta.lower()\n",
    "lower_textb= textb.lower()\n",
    "\n",
    "\n",
    "c_texta = lower_texta.replace('.', '').replace(',', '')\n",
    "c_textb = lower_textb.replace('.', '').replace(',', '')\n",
    "\n",
    "if c_texta ==c_textb :\n",
    "    print(f\"{c_texta} is equal to {c_textb}\")\n",
    "elif c_texta < c_textb :\n",
    "    print(f\"{c_texta} is less then  {c_textb}\")\n",
    "else :\n",
    "    print(f\"{c_texta} is greterthen  {c_textb}\")\n",
    " "
   ]
  },
  {
   "cell_type": "markdown",
   "id": "f3b699ad",
   "metadata": {},
   "source": [
    "A variable ids refers to the list [4353, 2314, 2956, 3382, 9362, 3900]. Using list\n",
    "methods, do the following:\n",
    "a. Remove 3382 from the list.\n",
    "b. Get the index of 9362.\n",
    "c. Insert 4499 in the list after 9362.\n",
    "d. Extend the list by adding [5566, 1830] to it.\n",
    "e. Reverse the list.\n",
    "f. Sort the list."
   ]
  },
  {
   "cell_type": "code",
   "execution_count": null,
   "id": "8cdc7db0",
   "metadata": {},
   "outputs": [],
   "source": [
    "ids = [4353, 2314, 2956, 3382, 9362, 3900]\n",
    "\n",
    "\n",
    "ids.remove(3382)\n",
    "print(\"After removing 3382:\", ids)\n",
    "\n",
    "\n",
    "index_9362 = ids.index(9362)\n",
    "print(\"Index of 9362:\", index_9362)\n",
    "\n",
    "\n",
    "ids.insert(index_9362 + 1, 4499)\n",
    "print(\"After inserting 4499:\", ids)\n",
    "\n",
    "\n",
    "ids.extend([5566, 1830])\n",
    "print(\"After extending the list:\", ids)\n",
    "\n",
    "\n",
    "\n",
    "ids.reverse()\n",
    "print(\"Reversed list:\", ids)\n",
    "\n",
    "\n",
    "ids.sort()\n",
    "print(\"Sorted list:\", ids)\n"
   ]
  },
  {
   "cell_type": "markdown",
   "id": "df32cdba",
   "metadata": {},
   "source": [
    "When playing games where you have to roll two dice, it is nice to know the odds of each\n",
    "roll. For instance, the odds of rolling a 12 are about 3%, and the odds of rolling a 7 are\n",
    "about 17%. You can compute these mathematically, but if you don’t know the math, you\n",
    "can write a program to do it. To do this, your program should simulate rolling two dice\n",
    "about 10,000 times and compute and print out the percentage of rolls that come out to\n",
    "be 2, 3, 4, . . . , 12. Print the results in a table format"
   ]
  },
  {
   "cell_type": "code",
   "execution_count": null,
   "id": "b56ae113",
   "metadata": {},
   "outputs": [],
   "source": [
    "\n",
    "\n",
    "import random\n",
    "\n",
    "def roll():\n",
    "    d1 = random.randint(1, 6)\n",
    "    d2 = random.randint(1, 6)\n",
    "    return d1 + d2\n",
    "\n",
    "counts = {sum: 0 for sum in range(2, 13)}\n",
    "\n",
    "total = 10000\n",
    "for _ in range(total):\n",
    "    r_sum = roll()\n",
    "    counts[r_sum] += 1\n",
    "\n",
    "\n",
    "print(\"Sum  |  Percentage\")\n",
    "for i in range(2, 13):\n",
    "    percentage = (counts[i] / total) * 100\n",
    "    print(f\"{i :3}  |  {percentage:.2f}%\")"
   ]
  },
  {
   "cell_type": "markdown",
   "id": "5c9be55f",
   "metadata": {},
   "source": [
    "Write a function each for mean, median and mode that accepts a list as an argument.\n",
    "The mean, median, and mode functions return an integer.\n",
    "Using these functions, write a program that generates a 99-element list of\n",
    "random numbers between 1 and 100 (inclusive) and computes its mean, median,\n",
    "mode"
   ]
  },
  {
   "cell_type": "code",
   "execution_count": null,
   "id": "844d860f",
   "metadata": {},
   "outputs": [],
   "source": [
    "import random\n",
    "from statistics import mode\n",
    "\n",
    "def mean(num):\n",
    "    return sum(num) // len(num)\n",
    "\n",
    "def median(num):\n",
    "    s_num = sorted(num)\n",
    "    n = len(s_num)\n",
    "    if n % 2 == 0:\n",
    "        median = (s_num[n//2-1] + s_num[n//2]) // 2\n",
    "    else:\n",
    "        median = s_num[n//2]\n",
    "    return median\n",
    "\n",
    "def mode(num):\n",
    "    return mode(num)\n",
    "\n",
    "def random_list(length):\n",
    "    return [random.randint(1, 100) for _ in range(length)]\n",
    "\n",
    "\n",
    "new_list = random_list(99)\n",
    "\n",
    "mean = mean(new_list)\n",
    "median = median(new_list)\n",
    "mode = mode(new_list)\n",
    "\n",
    "print(\"Mean:\", mean)\n",
    "print(\"Median:\", median)\n",
    "print(\"Mode:\", mode)\n"
   ]
  },
  {
   "cell_type": "markdown",
   "id": "5df097a6",
   "metadata": {},
   "source": [
    "Write a program that rotates the elements of a list so that the element at the first index\n",
    "moves to the second index, the element in the second index moves to the third index,\n",
    "etc., and the element in the last index moves to the first index."
   ]
  },
  {
   "cell_type": "code",
   "execution_count": null,
   "id": "0718e1cc",
   "metadata": {},
   "outputs": [],
   "source": [
    "def r_list(lst):\n",
    "    r_lst = lst[1:] + [lst[0]]\n",
    "    return r_lst\n",
    "\n",
    "n_list =[int(input(\"lets make a list of Numbers\\nplease enter 1st Number : \")),int(input(\"please enter 2nd Number : \")),int(input(\"please enter 3rd Number : \")),int(input(\"please enter 4th Number : \")),int(input(\"please enter 5th Number : \"))]\n",
    "r_list = r_list(n_list)\n",
    "print(f\"New list is {r_list}\")"
   ]
  },
  {
   "cell_type": "markdown",
   "id": "fff2b199",
   "metadata": {},
   "source": [
    "Write a program that generates 100 random integers that are either 0 or 1. Then find the longest\n",
    "run of zeros, the largest number of zeros in a row. For instance, the longest run of zeros in\n",
    "[1,0,1,1,0,0,0,0,1,0,0] is 4"
   ]
  },
  {
   "cell_type": "code",
   "execution_count": null,
   "id": "894c876b",
   "metadata": {},
   "outputs": [],
   "source": [
    "import random\n",
    "\n",
    "def zero_run(num):\n",
    "    l_run = 0\n",
    "    new_run = 0\n",
    "\n",
    "    for i in num:\n",
    "        if i == 0:\n",
    "            new_run += 1\n",
    "            if new_run > l_run:\n",
    "                l_run = new_run\n",
    "        else:\n",
    "            new_run = 0\n",
    "\n",
    "    return l_run\n",
    "\n",
    "\n",
    "random_num = [random.randint(0, 1) for _ in range(100)]\n",
    "\n",
    "run_zeros = zero_run(random_num)\n",
    "print(f\"The Random Numbers : \\n{random_num}\")\n",
    "print(\"Longest run of zeros:\", run_zeros)\n"
   ]
  },
  {
   "cell_type": "markdown",
   "id": "41322bb5",
   "metadata": {},
   "source": [
    "Read the size of the matrix from the user. Populate it with data from the user. Print the\n",
    "original ,transpose and product of the matrices on the screen"
   ]
  },
  {
   "cell_type": "code",
   "execution_count": null,
   "id": "e0f66dda",
   "metadata": {},
   "outputs": [],
   "source": [
    "\n",
    "\n",
    "def matrix(size):\n",
    "    matx = []\n",
    "    print(f\"Enter the elements of the {size}x{size} matrix:\")\n",
    "\n",
    "    for _ in range(size):\n",
    "        row = []\n",
    "        for _ in range(size):\n",
    "            element = int(input())\n",
    "            row.append(element)\n",
    "        matx.append(row)\n",
    "\n",
    "    return matx\n",
    "\n",
    "def t_matrix(matx):\n",
    "    size = len(matx)\n",
    "    transpose = [[0] * size for _ in range(size)]\n",
    "\n",
    "    for i in range(size):\n",
    "        for j in range(size):\n",
    "            transpose[i][j] = matx[j][i]\n",
    "\n",
    "    return transpose\n",
    "\n",
    "def m_matrices(matrix1, matrix2):\n",
    "    size = len(matrix1)\n",
    "    product = [[0] * size for _ in range(size)]\n",
    "\n",
    "    for i in range(size):\n",
    "        for j in range(size):\n",
    "            for k in range(size):\n",
    "                product[i][j] += matrix1[i][k] * matrix2[k][j]\n",
    "\n",
    "    return product\n",
    "\n",
    "size = int(input(\"Enter the size of the matrix: \"))\n",
    "\n",
    "matx = matrix(size)\n",
    "\n",
    "\n",
    "transpose = t_matrix(matx)\n",
    "\n",
    "\n",
    "product = m_matrices(matx, transpose)\n",
    "\n",
    "print(\"\\nOriginal matrix:\")\n",
    "for row in matx:\n",
    "    print(row)\n",
    "    \n",
    "print(\"\\nTranspose matrix:\")\n",
    "for row in transpose:\n",
    "    print(row)\n",
    "    \n",
    "print(\"\\nProduct of the matrix and its transpose:\")\n",
    "for row in product:\n",
    "    print(row)\n"
   ]
  }
 ],
 "metadata": {
  "kernelspec": {
   "display_name": "Python 3 (ipykernel)",
   "language": "python",
   "name": "python3"
  },
  "language_info": {
   "codemirror_mode": {
    "name": "ipython",
    "version": 3
   },
   "file_extension": ".py",
   "mimetype": "text/x-python",
   "name": "python",
   "nbconvert_exporter": "python",
   "pygments_lexer": "ipython3",
   "version": "3.10.9"
  }
 },
 "nbformat": 4,
 "nbformat_minor": 5
}
