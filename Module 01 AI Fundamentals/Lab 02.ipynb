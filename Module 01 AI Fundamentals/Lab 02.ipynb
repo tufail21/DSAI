{
 "cells": [
  {
   "cell_type": "markdown",
   "id": "5a9c3624",
   "metadata": {},
   "source": [
    "### Using only the techniques you have learned so far, write a program that calculates the square and cube of the numbers from 0 to 10 and uses tabs to print the following table of values:\n"
   ]
  },
  {
   "cell_type": "code",
   "execution_count": 2,
   "id": "895e1973",
   "metadata": {},
   "outputs": [
    {
     "name": "stdout",
     "output_type": "stream",
     "text": [
      "Number\tSquare\tCube\n",
      "0\t0\t0\n",
      "1\t1\t1\n",
      "2\t4\t8\n",
      "3\t9\t27\n",
      "4\t16\t64\n",
      "5\t25\t125\n",
      "6\t36\t216\n",
      "7\t49\t343\n",
      "8\t64\t512\n",
      "9\t81\t729\n",
      "10\t100\t1000\n"
     ]
    }
   ],
   "source": [
    "print(\"Number\\tSquare\\tCube\")\n",
    "for num in range(11):\n",
    "    sqr = num ** 2\n",
    "    cube = num ** 3\n",
    "    print(f\"{num}\\t{sqr}\\t{cube}\")"
   ]
  },
  {
   "cell_type": "markdown",
   "id": "cfe21686",
   "metadata": {},
   "source": [
    "### Write a program that assigns values to two variables and then swap their values. \n"
   ]
  },
  {
   "cell_type": "code",
   "execution_count": 5,
   "id": "becd4c39",
   "metadata": {},
   "outputs": [
    {
     "name": "stdout",
     "output_type": "stream",
     "text": [
      " Enter a Number: 4\n",
      " Enter a Number: 5\n",
      "Before swapping:\n",
      "x = 4\n",
      "y = 5\n",
      "After swapping:\n",
      "x = 5\n",
      "y = 4\n"
     ]
    }
   ],
   "source": [
    "x = int(input(\" Enter a Number: \"))\n",
    "y = int(input(\" Enter a Number: \"))\n",
    "\n",
    "print(\"Before swapping:\")\n",
    "print(\"x =\", x)\n",
    "print(\"y =\", y)\n",
    "\n",
    "z = x\n",
    "x = y\n",
    "y = z\n",
    "\n",
    "print(\"After swapping:\")\n",
    "print(\"x =\", x)\n",
    "print(\"y =\", y)"
   ]
  },
  {
   "cell_type": "markdown",
   "id": "6b974a30",
   "metadata": {},
   "source": [
    "### Write a program that inputs one five-digit number, generates its reverse and displays the reverse on screen.(Hint: Make use of the arithmetic operators modulus (%) and floor (// )"
   ]
  },
  {
   "cell_type": "code",
   "execution_count": 6,
   "id": "73fcc15e",
   "metadata": {},
   "outputs": [
    {
     "name": "stdout",
     "output_type": "stream",
     "text": [
      "Enter a five-digit number: 12345\n",
      "Reverse: 54321\n"
     ]
    }
   ],
   "source": [
    "num = int(input(\"Enter a five-digit number: \"))\n",
    "\n",
    "reverse = 0\n",
    "x = num\n",
    "\n",
    "reverse = (reverse * 10) + (x % 10)\n",
    "x = x // 10\n",
    "\n",
    "reverse = (reverse * 10) + (x % 10)\n",
    "x = x // 10\n",
    "\n",
    "reverse = (reverse * 10) + (x % 10)\n",
    "x = x // 10\n",
    "\n",
    "reverse = (reverse * 10) + (x % 10)\n",
    "x = x // 10\n",
    "\n",
    "reverse = (reverse * 10) + (x % 10)\n",
    "\n",
    "\n",
    "print(\"Reverse:\", reverse)"
   ]
  },
  {
   "cell_type": "markdown",
   "id": "a08df005",
   "metadata": {},
   "source": [
    "### Using whatever we have learned so far, write a program that prints a box, an oval, an arrow and a diamond as follows:\n",
    "    "
   ]
  },
  {
   "cell_type": "code",
   "execution_count": 5,
   "id": "7b52c03a",
   "metadata": {},
   "outputs": [
    {
     "name": "stdout",
     "output_type": "stream",
     "text": [
      "*********\n",
      "*       *\n",
      "*       *\n",
      "*       *\n",
      "*********\n",
      "\n",
      "   ***   \n",
      " *     * \n",
      "*       *\n",
      " *     * \n",
      "   ***   \n",
      "\n",
      "    *    \n",
      "   ***   \n",
      "  *****  \n",
      "    *    \n",
      "    *    \n",
      "    *    \n",
      "\n",
      "    *    \n",
      "   ***   \n",
      "  *****  \n",
      " ******* \n",
      "  *****  \n",
      "   ***   \n",
      "    *   \n",
      "\n"
     ]
    }
   ],
   "source": [
    "\n",
    "#  box\n",
    "print(\"*********\\n*       *\\n*       *\\n*       *\\n*********\\n\")\n",
    "\n",
    "#  oval\n",
    "print(\"   ***   \\n *     * \\n*       *\\n *     * \\n   ***   \\n\")\n",
    "\n",
    "# arrow\n",
    "print(\"    *    \\n   ***   \\n  *****  \\n    *    \\n    *    \\n    *    \\n\")\n",
    "\n",
    "# diamond\n",
    "print(\"    *    \\n   ***   \\n  *****  \\n ******* \\n  *****  \\n   ***   \\n    *   \\n\")\n"
   ]
  },
  {
   "cell_type": "markdown",
   "id": "4bd4e6d1",
   "metadata": {},
   "source": [
    "### Write a program that reads three nonzero integers and determines and prints if they could be the sides of a right triangle. (Hint : use Pythagoras theorem you learned in mathematics during FSC or matric , try different combinations of the same integers )"
   ]
  },
  {
   "cell_type": "code",
   "execution_count": 9,
   "id": "05231863",
   "metadata": {},
   "outputs": [
    {
     "name": "stdout",
     "output_type": "stream",
     "text": [
      "Enter the first side length: 4\n",
      "Enter the second side length: 5\n",
      "Enter the third side length: 6\n",
      "These sides cannot form a right triangle.\n"
     ]
    }
   ],
   "source": [
    "def triangle(x, y, z):\n",
    "    \n",
    "    if x <= 0 or y <= 0 or z <= 0:\n",
    "        return False\n",
    "\n",
    "    if x**2 + y**2 == z**2:\n",
    "        return True\n",
    "    elif y**2 + z**2 == x**2:\n",
    "        return True\n",
    "    elif z**2 + x**2 == y**2:\n",
    "        return True\n",
    "    else:\n",
    "        return False\n",
    "\n",
    "x = int(input(\"Enter the first side length: \"))\n",
    "y = int(input(\"Enter the second side length: \"))\n",
    "z = int(input(\"Enter the third side length: \"))\n",
    "\n",
    "\n",
    "if triangle(x, y, z):\n",
    "    print(\"These sides can form a right triangle.\")\n",
    "else:\n",
    "    print(\"These sides cannot form a right triangle.\")"
   ]
  },
  {
   "cell_type": "markdown",
   "id": "d76d5314",
   "metadata": {},
   "source": [
    "### Write a program to prompt for a score between 0.0 and 1.0. If the score is out of range, print an error message. If the score is between 0.0 and 1.0, print a grade using the following table:\n"
   ]
  },
  {
   "cell_type": "code",
   "execution_count": null,
   "id": "9b734958",
   "metadata": {},
   "outputs": [],
   "source": [
    "score = float(input(\"Enter a score between 0.0 and 1.0: \"))\n",
    "\n",
    "if score < 0.0 or score > 1.0:\n",
    "    print(\"Error: Invalid score!\")\n",
    "else:\n",
    "    if score >= 0.9:\n",
    "        grade = 'A'\n",
    "    elif score >= 0.8:\n",
    "        grade = 'B'\n",
    "    elif score >= 0.7:\n",
    "        grade = 'C'\n",
    "    elif score >= 0.6:\n",
    "        grade = 'D'\n",
    "    else:\n",
    "        grade = 'F'\n",
    "\n",
    "    print(\"Grade:\", grade)"
   ]
  },
  {
   "cell_type": "markdown",
   "id": "7e4a0a29",
   "metadata": {},
   "source": [
    "### Write a program that asks the user for an hour between 1 and 12, asks them to enter am or pm, and asks them how many hours into the future they want to go. Print out what the hour will be that many hours into the future, printing am or pm as appropriate. An example is shown below.\n"
   ]
  },
  {
   "cell_type": "code",
   "execution_count": 1,
   "id": "af5265d1",
   "metadata": {},
   "outputs": [
    {
     "name": "stdout",
     "output_type": "stream",
     "text": [
      "Enter the current hour (1-12): 11\n",
      "Enter 'am' or 'pm': 2\n",
      "Enter the number of hours into the future: 3\n",
      "The hour 3 hours into the future will be: 2 pm\n"
     ]
    }
   ],
   "source": [
    "hour = int(input(\"Enter the current hour (1-12): \"))\n",
    "period = input(\"Enter 'am' or 'pm': \")\n",
    "future = int(input(\"Enter the number of hours into the future: \"))\n",
    "\n",
    "\n",
    "if period.lower() == 'pm':\n",
    "    hour += 12\n",
    "\n",
    "\n",
    "hour = (hour + future) % 24\n",
    "\n",
    "\n",
    "if hour < 12:\n",
    "    period = 'am'\n",
    "else:\n",
    "    period = 'pm'\n",
    "\n",
    "\n",
    "if hour > 12:\n",
    "    hour -= 12\n",
    "\n",
    "print(\"The hour\", future, \"hours into the future will be:\", hour, period)"
   ]
  },
  {
   "cell_type": "markdown",
   "id": "03d5fe67",
   "metadata": {},
   "source": [
    "### A palindrome is a number or a text phrase that reads the same backwards as forwards. For example, each of the following five-digit integers are palindromes: 12321, 55555, 45554 and 11611. Write a program that reads in a five-digit integer and determines whether or not it is a palindrome.\n"
   ]
  },
  {
   "cell_type": "code",
   "execution_count": null,
   "id": "261f9f05",
   "metadata": {},
   "outputs": [],
   "source": [
    "num = input(\"Enter a five-digit integer: \")\n",
    "\n",
    "if len(num) != 5:\n",
    "    print(\"Error: Invalid input!\")\n",
    "else:\n",
    "   \n",
    "    if num == num[::-1]:\n",
    "        print(\"The number is a palindrome.\")\n",
    "    else:\n",
    "        print(\"The number is not a palindrome.\")"
   ]
  },
  {
   "cell_type": "code",
   "execution_count": null,
   "id": "41fb51d1",
   "metadata": {},
   "outputs": [],
   "source": []
  }
 ],
 "metadata": {
  "kernelspec": {
   "display_name": "Python 3 (ipykernel)",
   "language": "python",
   "name": "python3"
  },
  "language_info": {
   "codemirror_mode": {
    "name": "ipython",
    "version": 3
   },
   "file_extension": ".py",
   "mimetype": "text/x-python",
   "name": "python",
   "nbconvert_exporter": "python",
   "pygments_lexer": "ipython3",
   "version": "3.12.2"
  }
 },
 "nbformat": 4,
 "nbformat_minor": 5
}
