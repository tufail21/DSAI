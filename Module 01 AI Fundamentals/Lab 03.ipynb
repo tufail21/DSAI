{
 "cells": [
  {
   "cell_type": "markdown",
   "id": "cd42d17d",
   "metadata": {},
   "source": [
    "###  Write a program that asks the user about the number of values he/she wants to enter. Tha enter the values as per the required number, calculate its sum and identify the smallest value among them."
   ]
  },
  {
   "cell_type": "code",
   "execution_count": 2,
   "id": "6ebf5d49",
   "metadata": {},
   "outputs": [
    {
     "name": "stdout",
     "output_type": "stream",
     "text": [
      "Enter the number of values : 10\n",
      "Enter the number : 10\n",
      "Enter the number : 10\n",
      "Enter the number : 10\n",
      "Enter the number : 10\n",
      "Enter the number : 1\n",
      "Enter the number : 0\n",
      "Enter the number : 1\n",
      "Enter the number : 010101\n",
      "Enter the number : 1\n",
      "Enter the number : 01\n",
      "Sum of the values: 10145.0\n",
      "Smallest value: 0.0\n"
     ]
    }
   ],
   "source": [
    "num = int(input(\"Enter the number of values : \"))\n",
    "number = []\n",
    "\n",
    "for i in range(num):\n",
    "    value = float(input(f\"Enter the number : \"))\n",
    "    number.append(value)\n",
    "\n",
    "sums = sum(number)\n",
    "smallest = min(number)\n",
    "\n",
    "print(\"Sum of the values:\", sums)\n",
    "print(\"Smallest value:\", smallest)\n"
   ]
  },
  {
   "cell_type": "markdown",
   "id": "4b4698d1",
   "metadata": {},
   "source": [
    "### The factorial function is used frequently in probability problems. The factorial of a positive integer n (written n! and pronounced “n factorial”) is equal to the product of the positive integers from 1 to n.  Write a function factorial that accepts an integer as parameter and returns its factorial"
   ]
  },
  {
   "cell_type": "markdown",
   "id": "a3d1eda4",
   "metadata": {},
   "source": [
    "def factorial(x):\n",
    "    result = 1\n",
    "    for i in range(1, x + 1):\n",
    "        result *= i\n",
    "    return result\n",
    "\n",
    "start =int(input(\"enter starting value:  \"))\n",
    "last =int(input(\"enter last value:  \"))\n",
    "print(\"Number\\tFactorial\")\n",
    "for i in range(start, last):\n",
    "    Factorial = factorial(i)\n",
    "    print(f\"{i}\\t{Factorial}\")"
   ]
  },
  {
   "cell_type": "markdown",
   "id": "38afee23",
   "metadata": {},
   "source": [
    "#### Write a program that plays an incredibly stupid number-guessing game. The user will try to guess the secret number until they get it right. That means it will keep looping as long as the guess is different from the secret number. You must store the secret number in a variable, and use that variable throughout. The secret number itself must not appear in the program at all, except in the one line where you store it into a variable. Sample output is as following"
   ]
  },
  {
   "cell_type": "code",
   "execution_count": 11,
   "id": "28ab5150",
   "metadata": {},
   "outputs": [
    {
     "name": "stdout",
     "output_type": "stream",
     "text": [
      "Guess the any number (between 1 and 10): 3\n",
      "You Guess 3\n",
      "That's right! You guessed it\n"
     ]
    }
   ],
   "source": [
    "import random\n",
    "num = random.randint(1, 10)\n",
    "\n",
    "while True:\n",
    "    guess = int(input(\"Guess the any number (between 1 and 10): \"))\n",
    "\n",
    "    if guess == num:\n",
    "        print(f\"You Guess {guess}\")\n",
    "        print(\"That's right! You guessed it\")\n",
    "        break\n",
    "    elif guess < num:\n",
    "        print(f\"You Guess {guess}\")\n",
    "        print(\"That is incorrect. Guess again..\")"
   ]
  },
  {
   "cell_type": "markdown",
   "id": "9472f932",
   "metadata": {},
   "source": [
    "###  The greatest common divisor (GCD) of two integers is the largest integer that evenly divides each of the two numbers. Write function gcd that returns the greatest common divisor of two integers"
   ]
  },
  {
   "cell_type": "code",
   "execution_count": 14,
   "id": "94fa5c00",
   "metadata": {},
   "outputs": [
    {
     "name": "stdout",
     "output_type": "stream",
     "text": [
      "please enter 1nd number 2\n",
      "please enter 2nd number 4\n",
      "The greastest common divisor 2 and 4 of is 2\n"
     ]
    }
   ],
   "source": [
    "def GCD(x, y):\n",
    "    while y != 0:\n",
    "        x, y = y, x % y\n",
    "    return x\n",
    "num1 = int(input(\"please enter 1nd number \"))\n",
    "num2 = int(input(\"please enter 2nd number \"))\n",
    "\n",
    "result = GCD(num1, num2)\n",
    "print(f\"The greastest common divisor {num1} and {num2} of is\", result)"
   ]
  },
  {
   "cell_type": "markdown",
   "id": "0d334ce0",
   "metadata": {},
   "source": [
    "#### An integer is said to be prime if it is divisible only by 1 and itself. For example, 2, 3, 5 and 7 are prime, but 4, 6, 8 and 9 are not. a) Write a function that determines if a number is prime. b) Use this function in a program that determines and prints all the prime numbers between 1 and 10,000."
   ]
  },
  {
   "cell_type": "code",
   "execution_count": 17,
   "id": "e32d33c9",
   "metadata": {},
   "outputs": [
    {
     "name": "stdout",
     "output_type": "stream",
     "text": [
      "The prime number from 1 to 1000 are\n",
      "2\n",
      "3\n",
      "5\n",
      "7\n",
      "11\n",
      "13\n",
      "17\n",
      "19\n",
      "23\n",
      "29\n",
      "31\n",
      "37\n",
      "41\n",
      "43\n",
      "47\n",
      "53\n",
      "59\n",
      "61\n",
      "67\n",
      "71\n",
      "73\n",
      "79\n",
      "83\n",
      "89\n",
      "97\n",
      "101\n",
      "103\n",
      "107\n",
      "109\n",
      "113\n",
      "127\n",
      "131\n",
      "137\n",
      "139\n",
      "149\n",
      "151\n",
      "157\n",
      "163\n",
      "167\n",
      "173\n",
      "179\n",
      "181\n",
      "191\n",
      "193\n",
      "197\n",
      "199\n",
      "211\n",
      "223\n",
      "227\n",
      "229\n",
      "233\n",
      "239\n",
      "241\n",
      "251\n",
      "257\n",
      "263\n",
      "269\n",
      "271\n",
      "277\n",
      "281\n",
      "283\n",
      "293\n",
      "307\n",
      "311\n",
      "313\n",
      "317\n",
      "331\n",
      "337\n",
      "347\n",
      "349\n",
      "353\n",
      "359\n",
      "367\n",
      "373\n",
      "379\n",
      "383\n",
      "389\n",
      "397\n",
      "401\n",
      "409\n",
      "419\n",
      "421\n",
      "431\n",
      "433\n",
      "439\n",
      "443\n",
      "449\n",
      "457\n",
      "461\n",
      "463\n",
      "467\n",
      "479\n",
      "487\n",
      "491\n",
      "499\n",
      "503\n",
      "509\n",
      "521\n",
      "523\n",
      "541\n",
      "547\n",
      "557\n",
      "563\n",
      "569\n",
      "571\n",
      "577\n",
      "587\n",
      "593\n",
      "599\n",
      "601\n",
      "607\n",
      "613\n",
      "617\n",
      "619\n",
      "631\n",
      "641\n",
      "643\n",
      "647\n",
      "653\n",
      "659\n",
      "661\n",
      "673\n",
      "677\n",
      "683\n",
      "691\n",
      "701\n",
      "709\n",
      "719\n",
      "727\n",
      "733\n",
      "739\n",
      "743\n",
      "751\n",
      "757\n",
      "761\n",
      "769\n",
      "773\n",
      "787\n",
      "797\n",
      "809\n",
      "811\n",
      "821\n",
      "823\n",
      "827\n",
      "829\n",
      "839\n",
      "853\n",
      "857\n",
      "859\n",
      "863\n",
      "877\n",
      "881\n",
      "883\n",
      "887\n",
      "907\n",
      "911\n",
      "919\n",
      "929\n",
      "937\n",
      "941\n",
      "947\n",
      "953\n",
      "967\n",
      "971\n",
      "977\n",
      "983\n",
      "991\n",
      "997\n"
     ]
    }
   ],
   "source": [
    "\n",
    "import math\n",
    "\n",
    "print(f\"The prime number from 1 to 1000 are\")\n",
    "def prime_num(x):\n",
    "    if x <= 1:\n",
    "        return False\n",
    "    if x <= 3:\n",
    "        return True\n",
    "    if x % 2 == 0 or x % 3 == 0:\n",
    "        return False\n",
    "    sqt = int(math.sqrt(n)) + 1\n",
    "    for divisor in range(5, sqt, 6):\n",
    "        if x % divisor == 0 or x % (divisor + 2) == 0:\n",
    "            return False\n",
    "    return True\n",
    "def print_prime_num():\n",
    "    for i in range(1, 1000):\n",
    "        if prime(i):\n",
    "            print(i)\n",
    "\n",
    "print_prime_num()\n"
   ]
  },
  {
   "cell_type": "markdown",
   "id": "e1d8e8fe",
   "metadata": {},
   "source": [
    "###  Write a code that prints on screen all the 4-digit Armstrong numbers"
   ]
  },
  {
   "cell_type": "code",
   "execution_count": 19,
   "id": "76cd2737",
   "metadata": {},
   "outputs": [
    {
     "name": "stdout",
     "output_type": "stream",
     "text": [
      "The 4-digit Armstrong numbers are:\n",
      "1634\n",
      "8208\n",
      "9474\n"
     ]
    }
   ],
   "source": [
    "def armstrong_num(x):\n",
    "    strn = str(x)\n",
    "    digits = len(strn)\n",
    "    cubes = sum(int(digit)**digits for digit in strn)\n",
    "    return x == cubes\n",
    "\n",
    "print(\"The 4-digit Armstrong numbers are:\")\n",
    "for j in range(1000, 10000):\n",
    "    if armstrong_num(j):\n",
    "        print(j)"
   ]
  },
  {
   "cell_type": "markdown",
   "id": "3a308858",
   "metadata": {},
   "source": [
    "### Write a program that outputs 100 lines, numbered 1 to 100, each with your name on it. The output should look like the output below\n",
    "\n",
    "\n"
   ]
  },
  {
   "cell_type": "code",
   "execution_count": 20,
   "id": "abdab1ee",
   "metadata": {},
   "outputs": [
    {
     "name": "stdout",
     "output_type": "stream",
     "text": [
      "1 YOur Name\n",
      "2 YOur Name\n",
      "3 YOur Name\n",
      "4 YOur Name\n",
      "5 YOur Name\n",
      "6 YOur Name\n",
      "7 YOur Name\n",
      "8 YOur Name\n",
      "9 YOur Name\n",
      "10 YOur Name\n",
      "11 YOur Name\n",
      "12 YOur Name\n",
      "13 YOur Name\n",
      "14 YOur Name\n",
      "15 YOur Name\n",
      "16 YOur Name\n",
      "17 YOur Name\n",
      "18 YOur Name\n",
      "19 YOur Name\n",
      "20 YOur Name\n",
      "21 YOur Name\n",
      "22 YOur Name\n",
      "23 YOur Name\n",
      "24 YOur Name\n",
      "25 YOur Name\n",
      "26 YOur Name\n",
      "27 YOur Name\n",
      "28 YOur Name\n",
      "29 YOur Name\n",
      "30 YOur Name\n",
      "31 YOur Name\n",
      "32 YOur Name\n",
      "33 YOur Name\n",
      "34 YOur Name\n",
      "35 YOur Name\n",
      "36 YOur Name\n",
      "37 YOur Name\n",
      "38 YOur Name\n",
      "39 YOur Name\n",
      "40 YOur Name\n",
      "41 YOur Name\n",
      "42 YOur Name\n",
      "43 YOur Name\n",
      "44 YOur Name\n",
      "45 YOur Name\n",
      "46 YOur Name\n",
      "47 YOur Name\n",
      "48 YOur Name\n",
      "49 YOur Name\n",
      "50 YOur Name\n",
      "51 YOur Name\n",
      "52 YOur Name\n",
      "53 YOur Name\n",
      "54 YOur Name\n",
      "55 YOur Name\n",
      "56 YOur Name\n",
      "57 YOur Name\n",
      "58 YOur Name\n",
      "59 YOur Name\n",
      "60 YOur Name\n",
      "61 YOur Name\n",
      "62 YOur Name\n",
      "63 YOur Name\n",
      "64 YOur Name\n",
      "65 YOur Name\n",
      "66 YOur Name\n",
      "67 YOur Name\n",
      "68 YOur Name\n",
      "69 YOur Name\n",
      "70 YOur Name\n",
      "71 YOur Name\n",
      "72 YOur Name\n",
      "73 YOur Name\n",
      "74 YOur Name\n",
      "75 YOur Name\n",
      "76 YOur Name\n",
      "77 YOur Name\n",
      "78 YOur Name\n",
      "79 YOur Name\n",
      "80 YOur Name\n",
      "81 YOur Name\n",
      "82 YOur Name\n",
      "83 YOur Name\n",
      "84 YOur Name\n",
      "85 YOur Name\n",
      "86 YOur Name\n",
      "87 YOur Name\n",
      "88 YOur Name\n",
      "89 YOur Name\n",
      "90 YOur Name\n",
      "91 YOur Name\n",
      "92 YOur Name\n",
      "93 YOur Name\n",
      "94 YOur Name\n",
      "95 YOur Name\n",
      "96 YOur Name\n",
      "97 YOur Name\n",
      "98 YOur Name\n",
      "99 YOur Name\n",
      "100 YOur Name\n"
     ]
    }
   ],
   "source": [
    "for i in range(1, 101):\n",
    "    print(f\"{i} Your Name\")"
   ]
  },
  {
   "cell_type": "markdown",
   "id": "a915382f",
   "metadata": {},
   "source": [
    "### Write a program that uses a for loop to print the numbers 8, 11, 14, 17, 20, . . . , 83, 86, 89\n",
    "\n"
   ]
  },
  {
   "cell_type": "code",
   "execution_count": 21,
   "id": "9c358aa7",
   "metadata": {},
   "outputs": [
    {
     "name": "stdout",
     "output_type": "stream",
     "text": [
      "8\n",
      "11\n",
      "14\n",
      "17\n",
      "20\n",
      "23\n",
      "26\n",
      "29\n",
      "32\n",
      "35\n",
      "38\n",
      "41\n",
      "44\n",
      "47\n",
      "50\n",
      "53\n",
      "56\n",
      "59\n",
      "62\n",
      "65\n",
      "68\n",
      "71\n",
      "74\n",
      "77\n",
      "80\n",
      "83\n",
      "86\n",
      "89\n"
     ]
    }
   ],
   "source": [
    "for number in range(8, 90, 3):\n",
    "    print(number)"
   ]
  },
  {
   "cell_type": "markdown",
   "id": "5012100c",
   "metadata": {},
   "source": [
    "### Use a for loop to print a box like the one below. Allow the user to specify how wide and how high the box should be"
   ]
  },
  {
   "cell_type": "code",
   "execution_count": 22,
   "id": "2520ef68",
   "metadata": {},
   "outputs": [
    {
     "name": "stdout",
     "output_type": "stream",
     "text": [
      "Enter the width of the box: 10\n",
      "Enter the height of the box: 10\n",
      "********************\n",
      "********************\n",
      "********************\n",
      "********************\n",
      "********************\n",
      "********************\n",
      "********************\n",
      "********************\n",
      "********************\n",
      "********************\n"
     ]
    }
   ],
   "source": [
    "\n",
    "wid = int(input(\"Enter the width of the box: \"))\n",
    "hgt = int(input(\"Enter the height of the box: \"))\n",
    "\n",
    "for rw in range(hgt):\n",
    "    for cl in range(wid):\n",
    "        if rw == 0 or rw == hgt -1  or cl == 0 or cl == wid -1:\n",
    "            print(\"*\", end=\"*\")\n",
    "        else:\n",
    "            print(\"*\", end=\"*\")\n",
    "    print()"
   ]
  },
  {
   "cell_type": "markdown",
   "id": "aeb6c87f",
   "metadata": {},
   "source": [
    "### Use a for loop to print a triangle like the one below. Allow the user to specify how high the triangle should be"
   ]
  },
  {
   "cell_type": "code",
   "execution_count": 23,
   "id": "71f1598b",
   "metadata": {},
   "outputs": [
    {
     "name": "stdout",
     "output_type": "stream",
     "text": [
      "Enter the height of the triangle: 10\n",
      "* \n",
      "* * \n",
      "* * * \n",
      "* * * * \n",
      "* * * * * \n",
      "* * * * * * \n",
      "* * * * * * * \n",
      "* * * * * * * * \n",
      "* * * * * * * * * \n",
      "* * * * * * * * * * \n"
     ]
    }
   ],
   "source": [
    "\n",
    "hgt = int(input(\"Enter the height of the triangle: \"))\n",
    "\n",
    "for i in range(1, hgt + 1):\n",
    "    for cl in range(i):\n",
    "        print(\"*\", end=\" \")\n",
    "    print()\n"
   ]
  },
  {
   "cell_type": "markdown",
   "id": "c59c9e8b",
   "metadata": {},
   "source": [
    "### Use for loops to print a diamond like the one below. Allow the user to specify how high the diamond should be"
   ]
  },
  {
   "cell_type": "code",
   "execution_count": 24,
   "id": "f40ae1b4",
   "metadata": {},
   "outputs": [
    {
     "name": "stdout",
     "output_type": "stream",
     "text": [
      "         *\n",
      "        ***\n",
      "       *****\n",
      "      *******\n",
      "     *********\n",
      "    ***********\n",
      "   *************\n",
      "  ***************\n",
      " *****************\n",
      "*******************\n",
      " *****************\n",
      "  ***************\n",
      "   *************\n",
      "    ***********\n",
      "     *********\n",
      "      *******\n",
      "       *****\n",
      "        ***\n",
      "         *\n"
     ]
    }
   ],
   "source": [
    "def diamond(hgt):\n",
    "    for i in range(hgt):\n",
    "        \n",
    "        for j in range(hgt - i - 1):\n",
    "            print(\" \", end=\"\")\n",
    "      \n",
    "        for j in range(2 * i + 1):\n",
    "            print(\"*\", end=\"\")\n",
    "        print()\n",
    "\n",
    "    for i in range(hgt - 2, -1, -1):\n",
    "       \n",
    "        for j in range(hgt - i - 1):\n",
    "            print(\" \", end=\"\")\n",
    "       \n",
    "        for j in range(2 * i + 1):\n",
    "            print(\"*\", end=\"\")\n",
    "        print()  \n",
    "\n",
    "diamond(hgt)\n"
   ]
  },
  {
   "cell_type": "markdown",
   "id": "0dace688",
   "metadata": {},
   "source": [
    "### Write a program that prints a giant letter A like the one below. Allow the user to specify\n",
    "how large the letter should be"
   ]
  },
  {
   "cell_type": "code",
   "execution_count": null,
   "id": "7015b8f2",
   "metadata": {},
   "outputs": [],
   "source": [
    "def A(size):\n",
    "    for i in range(size):\n",
    "        for j in range(size - i - 1):\n",
    "            print(\" \", end=\"\")\n",
    "        for j in range(2 * i + 1):\n",
    "            if i == size // 2 or j == 0 or j == 2 * i:\n",
    "                print(\"*\", end=\"\")\n",
    "            else:\n",
    "                print(\" \", end=\"\")\n",
    "        print()\n",
    "\n",
    "size = int(input(\"Enter the size of the letter A: \"))\n",
    "\n",
    "A(size)"
   ]
  },
  {
   "cell_type": "code",
   "execution_count": null,
   "id": "d0f467b4",
   "metadata": {},
   "outputs": [],
   "source": []
  }
 ],
 "metadata": {
  "kernelspec": {
   "display_name": "Python 3 (ipykernel)",
   "language": "python",
   "name": "python3"
  },
  "language_info": {
   "codemirror_mode": {
    "name": "ipython",
    "version": 3
   },
   "file_extension": ".py",
   "mimetype": "text/x-python",
   "name": "python",
   "nbconvert_exporter": "python",
   "pygments_lexer": "ipython3",
   "version": "3.10.9"
  }
 },
 "nbformat": 4,
 "nbformat_minor": 5
}
