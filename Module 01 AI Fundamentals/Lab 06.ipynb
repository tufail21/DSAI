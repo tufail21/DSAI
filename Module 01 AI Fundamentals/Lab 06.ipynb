{
 "cells": [
  {
   "cell_type": "markdown",
   "id": "7a621527",
   "metadata": {},
   "source": [
    "Write a Python class called Rectangle that has attributes length and width. \n",
    "Implement methods to calculate the area and perimeter of the rectangle"
   ]
  },
  {
   "cell_type": "code",
   "execution_count": null,
   "id": "0f23dbf0",
   "metadata": {},
   "outputs": [],
   "source": [
    "\n",
    "class Rectangle:\n",
    "    def __init__(self, length, width):\n",
    "        self.length = length\n",
    "        self.width = width\n",
    "    \n",
    "    def area(self):\n",
    "        return self.length * self.width\n",
    "    \n",
    "    def perimeter(self):\n",
    "        return 2 * (self.length + self.width)\n",
    "    \n",
    "print(\"find the area and primeter of rectangle : \")   \n",
    "\n",
    "width= int(input(\"width : \"))   \n",
    "\n",
    "height= int(input(\"height : \")) \n",
    "\n",
    "rectangle = Rectangle(width, height)\n",
    "\n",
    "area = rectangle.area()\n",
    "print(\"Area of rectangle is :\", area)\n",
    "\n",
    "perimeter = rectangle.perimeter()\n",
    "print(\"Perimeter of rectangle is:\", perimeter)\n"
   ]
  },
  {
   "cell_type": "markdown",
   "id": "839fd905",
   "metadata": {},
   "source": [
    "Create a class hierarchy in Python consisting of a base class called Animal, and derived\n",
    "classes Dog, Cat, and Bird. Each derived class should have its unique method. Instantiate\n",
    "objects of each class and demonstrate polymorphism by calling a common method on\n",
    "each object"
   ]
  },
  {
   "cell_type": "code",
   "execution_count": null,
   "id": "37dbab63",
   "metadata": {},
   "outputs": [],
   "source": [
    "class animal:\n",
    "    def __init__(self, name):\n",
    "        self.name = name\n",
    "    \n",
    "    def voice(self):\n",
    "        pass\n",
    "\n",
    "\n",
    "class dogs(animal):\n",
    "    def voice(self):\n",
    "        return \"Woof!\"\n",
    "\n",
    "\n",
    "class cats(animal):\n",
    "    def voice(self):\n",
    "        return \"Meow!\"\n",
    "\n",
    "\n",
    "class birds(animal):\n",
    "    def voice(self):\n",
    "        return \"Chirp!\"\n",
    "\n",
    "    \n",
    "dog = dogs(\"Buddy\")\n",
    "cat = cats(\"Whiskers\")\n",
    "bird = birds(\"Tweety\")\n",
    "\n",
    "animals = [dog, cat, bird]\n",
    "for animal in animals:\n",
    "    print(animal.name + \" says:\", animal.voice())\n",
    "    \n",
    "\n",
    "\n"
   ]
  },
  {
   "cell_type": "markdown",
   "id": "72a2f23b",
   "metadata": {},
   "source": [
    "Write a Python class called Shape with a method area() that returns the area of the shape.\n",
    "Create two subclasses, Rectangle and Circle, each overriding the area() method to 7calculate the area of the specific shape.\n",
    "Instantiate objects of each class and display their areas"
   ]
  },
  {
   "cell_type": "code",
   "execution_count": null,
   "id": "a8d954fd",
   "metadata": {},
   "outputs": [],
   "source": [
    "\n",
    "import math\n",
    "\n",
    "class shape:\n",
    "    def area(self):\n",
    "        pass\n",
    "\n",
    "class rectangle(shape):\n",
    "    def __init__(self, wid, hgt):\n",
    "        self.wid = wid\n",
    "        self.hgt = hgt\n",
    "\n",
    "    def area(self):\n",
    "        return self.wid * self.hgt\n",
    "\n",
    "class circle(shape):\n",
    "    def __init__(self, rad):\n",
    "        self.rad = rad\n",
    "\n",
    "    def area(self):\n",
    "        return math.pi * (self.rad ** 2)\n",
    "    \n",
    "print(\" For finding the area  of rectangle : \")   \n",
    "\n",
    "wid= int(input(\"Enter width : \"))   \n",
    "\n",
    "hgt= int(input(\"Enter height : \")) \n",
    "\n",
    "rectangle = rectangle(wid, hgt)\n",
    "print(\"Rectangle area:\", rectangle.area(),\"\\n\") \n",
    "\n",
    "print(\"For find the area  of Circle : \") \n",
    "\n",
    "rad = int(input(\"Enter radius : \")) \n",
    "\n",
    "circle = circle(rad)\n",
    "\n",
    "print(\"Circle area:\", circle.area()) \n"
   ]
  }
 ],
 "metadata": {
  "kernelspec": {
   "display_name": "Python 3 (ipykernel)",
   "language": "python",
   "name": "python3"
  },
  "language_info": {
   "codemirror_mode": {
    "name": "ipython",
    "version": 3
   },
   "file_extension": ".py",
   "mimetype": "text/x-python",
   "name": "python",
   "nbconvert_exporter": "python",
   "pygments_lexer": "ipython3",
   "version": "3.10.9"
  }
 },
 "nbformat": 4,
 "nbformat_minor": 5
}
