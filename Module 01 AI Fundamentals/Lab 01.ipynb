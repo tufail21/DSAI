{
 "cells": [
  {
   "cell_type": "markdown",
   "id": "9f8ae1bb",
   "metadata": {},
   "source": [
    "####  Write a program in jupyter notebook, that prints on screen the message  Hello, World\n"
   ]
  },
  {
   "cell_type": "code",
   "execution_count": 1,
   "id": "9fe07b68",
   "metadata": {},
   "outputs": [
    {
     "name": "stdout",
     "output_type": "stream",
     "text": [
      "hellow world\n"
     ]
    }
   ],
   "source": [
    "print(\"hellow world\")"
   ]
  },
  {
   "cell_type": "markdown",
   "id": "9837965d",
   "metadata": {},
   "source": [
    "#### Using the program in (1), what happens if we remove the closing quotation around the text Hello, World?\n"
   ]
  },
  {
   "cell_type": "code",
   "execution_count": 2,
   "id": "7898bfae",
   "metadata": {},
   "outputs": [
    {
     "ename": "SyntaxError",
     "evalue": "unterminated string literal (detected at line 7) (2707030180.py, line 7)",
     "output_type": "error",
     "traceback": [
      "\u001b[1;36m  Cell \u001b[1;32mIn[2], line 7\u001b[1;36m\u001b[0m\n\u001b[1;33m    print(\"hellow world)\u001b[0m\n\u001b[1;37m          ^\u001b[0m\n\u001b[1;31mSyntaxError\u001b[0m\u001b[1;31m:\u001b[0m unterminated string literal (detected at line 7)\n"
     ]
    }
   ],
   "source": [
    "\"\"\"The error message indicates that there is a problem at the end of the line while scanning the string literal.\n",
    "It expects a closing quotation mark to complete the string, but since it's missing, the interpreter cannot parse\n",
    "the code correctly\n",
    "\n",
    "Error(unterminated string literal (detected at line 1)\n",
    ")\"\"\"\n",
    "print(\"hellow world)\n"
   ]
  },
  {
   "cell_type": "markdown",
   "id": "919f9b93",
   "metadata": {},
   "source": [
    "#### Using the program in (1), what happens if we remove both the quotations around the text Hello, World? How is it different from the behavior in (2)"
   ]
  },
  {
   "cell_type": "code",
   "execution_count": 4,
   "id": "cc10e7c3",
   "metadata": {},
   "outputs": [
    {
     "ename": "SyntaxError",
     "evalue": "invalid syntax (2123688317.py, line 1)",
     "output_type": "error",
     "traceback": [
      "\u001b[1;36m  Cell \u001b[1;32mIn[4], line 1\u001b[1;36m\u001b[0m\n\u001b[1;33m    print(,hellow world)\u001b[0m\n\u001b[1;37m          ^\u001b[0m\n\u001b[1;31mSyntaxError\u001b[0m\u001b[1;31m:\u001b[0m invalid syntax\n"
     ]
    }
   ],
   "source": [
    "print(hellow world)"
   ]
  },
  {
   "cell_type": "code",
   "execution_count": 6,
   "id": "155117bc",
   "metadata": {},
   "outputs": [
    {
     "name": "stdout",
     "output_type": "stream",
     "text": [
      "*\n",
      "**\n",
      "***\n",
      "****\n",
      "*****\n",
      "******\n"
     ]
    }
   ],
   "source": [
    "print(\"*\\n**\\n***\\n****\\n*****\\n******\")\n"
   ]
  }
 ],
 "metadata": {
  "kernelspec": {
   "display_name": "Python 3 (ipykernel)",
   "language": "python",
   "name": "python3"
  },
  "language_info": {
   "codemirror_mode": {
    "name": "ipython",
    "version": 3
   },
   "file_extension": ".py",
   "mimetype": "text/x-python",
   "name": "python",
   "nbconvert_exporter": "python",
   "pygments_lexer": "ipython3",
   "version": "3.12.2"
  }
 },
 "nbformat": 4,
 "nbformat_minor": 5
}
